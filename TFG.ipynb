{
 "cells": [
  {
   "cell_type": "code",
   "execution_count": 4,
   "metadata": {},
   "outputs": [],
   "source": [
    "import numpy as np\n",
    "import matplotlib.pyplot as plt\n",
    "from scipy.integrate import odeint\n",
    "import sys\n",
    "from PyQt5 import QtWidgets\n",
    "from casadi import *\n",
    "import do_mpc"
   ]
  },
  {
   "cell_type": "code",
   "execution_count": 6,
   "metadata": {},
   "outputs": [],
   "source": [
    "model_type = 'continuous'\n",
    "model = do_mpc.model.Model(model_type)"
   ]
  },
  {
   "cell_type": "code",
   "execution_count": 7,
   "metadata": {},
   "outputs": [],
   "source": [
    "r_1 = model.set_variable(var_type='_x',var_name='r_1',shape=(1,1))\n",
    "r_2 = model.set_variable(var_type='_x',var_name='r_2',shape=(1,1))\n",
    "r_3 = model.set_variable(var_type='_x',var_name='r_3',shape=(1,1))\n",
    "r_4 = model.set_variable(var_type='_x',var_name='r_4',shape=(1,1))\n",
    "r_B = model.set_variable(var_type='_x',var_name='r_B',shape=(1,1))"
   ]
  }
 ],
 "metadata": {
  "kernelspec": {
   "display_name": "Python 3.10.6 ('TFG')",
   "language": "python",
   "name": "python3"
  },
  "language_info": {
   "codemirror_mode": {
    "name": "ipython",
    "version": 3
   },
   "file_extension": ".py",
   "mimetype": "text/x-python",
   "name": "python",
   "nbconvert_exporter": "python",
   "pygments_lexer": "ipython3",
   "version": "3.10.6"
  },
  "orig_nbformat": 4,
  "vscode": {
   "interpreter": {
    "hash": "d287fa62717a70f89953c5b8985f4bb771aacd676c0fbbcabcc45f5be8e4606e"
   }
  }
 },
 "nbformat": 4,
 "nbformat_minor": 2
}
